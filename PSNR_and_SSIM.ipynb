{
  "nbformat": 4,
  "nbformat_minor": 0,
  "metadata": {
    "colab": {
      "provenance": []
    },
    "kernelspec": {
      "name": "python3",
      "display_name": "Python 3"
    },
    "language_info": {
      "name": "python"
    }
  },
  "cells": [
    {
      "cell_type": "code",
      "execution_count": null,
      "metadata": {
        "id": "gmE5C7OWX7fB"
      },
      "outputs": [],
      "source": [
        "\n",
        "from keras.models import load_model\n",
        "from numpy.random import randint\n",
        "import cv2\n",
        "import numpy as np\n",
        "import matplotlib.pyplot as plt\n",
        "\n",
        "\n",
        "\n",
        "generator = load_model('gen_e_10.h5', compile=False)\n",
        "\n",
        "ct_lr = cv2.imread(\"CAP_SCD0000101_MR__hrt_raw_20120813120600157_1.jpg\")\n",
        "ct_hr = cv2.imread(\"CAP_SCD0000101_MR__hrt_raw_20120813120600157_1 HR.jpg\")\n",
        "\n",
        "ct_lr = cv2.cvtColor(ct_lr, cv2.COLOR_BGR2RGB)\n",
        "ct_hr = cv2.cvtColor(ct_hr, cv2.COLOR_BGR2RGB)\n",
        "\n",
        "ct_lr = ct_lr / 255.\n",
        "ct_hr = ct_hr / 255.\n",
        "\n",
        "ct_lr = np.expand_dims(ct_lr, axis=0)\n",
        "ct_hr = np.expand_dims(ct_hr, axis=0)\n",
        "\n",
        "generated_ct_hr = generator.predict(ct_lr)\n",
        "\n",
        "# plot all three images\n",
        "plt.figure(figsize=(16, 8))\n",
        "plt.subplot(231)\n",
        "plt.title('LR Image')\n",
        "plt.imshow(ct_lr[0,:,:,:])\n",
        "plt.subplot(232)\n",
        "plt.title('Superresolution')\n",
        "plt.imshow(generated_ct_hr[0,:,:,:])\n",
        "plt.subplot(233)\n",
        "plt.title('Orig. HR image')\n",
        "plt.imshow(ct_hr[0,:,:,:])\n",
        "\n",
        "plt.show()"
      ]
    },
    {
      "cell_type": "code",
      "source": [
        "import tensorflow as tf\n",
        "from tensorflow.keras.losses import mse\n",
        "from tensorflow.image import ssim\n",
        "import matplotlib.pyplot as plt\n",
        "\n",
        "# Convert the images to tensors\n",
        "generated_ct_hr_tensor = tf.convert_to_tensor(generated_ct_hr, dtype=tf.float32)\n",
        "ct_hr_tensor = tf.convert_to_tensor(ct_hr, dtype=tf.float32)\n",
        "print(\"generated_ct_hr_tensor\",generated_ct_hr_tensor.shape)\n",
        "\n",
        "# Calculate the PSNR  # PSNR = 10 * log10((MAX^2) / MSE)\n",
        "mse_value = mse(ct_hr_tensor, generated_ct_hr_tensor)\n",
        "psnr = tf.squeeze(tf.image.psnr(ct_hr_tensor, generated_ct_hr_tensor, max_val=1.1))  # max_val should be set to the maximum pixel value of the image\n",
        "# Calculate the SSIM\n",
        "ssim_value = ssim(ct_hr_tensor, generated_ct_hr_tensor, max_val=1.0) #SSIM(x,y) = (l(x,y) * c(x,y) * s(x,y))\n",
        "\n",
        "\n",
        "# Print the PSNR and SSIM values\n",
        "psnr_title = f\"PSNR: {psnr.numpy():.2f} dB\"\n",
        "ssim_title = f\"SSIM: {ssim_value.numpy().item():.4f}\"\n",
        "\n",
        "# Plot the images with titles\n",
        "plt.figure(figsize=(16, 8))\n",
        "plt.subplot(231)\n",
        "plt.title('LR Image')\n",
        "plt.imshow(ct_lr[0,:,:,:])\n",
        "plt.subplot(232)\n",
        "plt.title('Super resolution\\n' + ssim_title + '\\n' + psnr_title)\n",
        "plt.imshow(generated_ct_hr[0,:,:,:])\n",
        "plt.subplot(233)\n",
        "plt.title('Orig. HR image')\n",
        "plt.imshow(ct_hr[0,:,:,:])\n",
        "\n",
        "plt.show()"
      ],
      "metadata": {
        "id": "QmNuwtwwYTDL"
      },
      "execution_count": null,
      "outputs": []
    }
  ]
}